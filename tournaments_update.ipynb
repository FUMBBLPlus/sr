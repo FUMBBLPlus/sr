{
 "cells": [
  {
   "cell_type": "code",
   "execution_count": null,
   "metadata": {},
   "outputs": [],
   "source": [
    "%load_ext autoreload\n",
    "%autoreload 2"
   ]
  },
  {
   "cell_type": "code",
   "execution_count": null,
   "metadata": {},
   "outputs": [],
   "source": [
    "import bisect\n",
    "import datetime\n",
    "import enum\n",
    "import json\n",
    "import math\n",
    "import pathlib"
   ]
  },
  {
   "cell_type": "code",
   "execution_count": null,
   "metadata": {},
   "outputs": [],
   "source": [
    "import fumbblapi\n",
    "import roman\n",
    "import srdata\n",
    "import srpages\n",
    "import srpoints\n",
    "import srschedule\n",
    "import srtime\n",
    "import srtournament"
   ]
  },
  {
   "cell_type": "code",
   "execution_count": null,
   "metadata": {},
   "outputs": [],
   "source": [
    "tournamenturlfs = 'https://fumbbl.com/p/group?op=view&at=1&group={groupId}&p=tournaments&show={tournamentId}&showallrounds=1'"
   ]
  },
  {
   "cell_type": "code",
   "execution_count": null,
   "metadata": {},
   "outputs": [],
   "source": [
    "sr_data_path = pathlib.Path('../sr-data')\n",
    "sr_pages_path = pathlib.Path('../sr-pages')"
   ]
  },
  {
   "cell_type": "code",
   "execution_count": null,
   "metadata": {},
   "outputs": [],
   "source": [
    "TI = srdata.TournamentIdx\n",
    "srdata.load(sr_data_path)"
   ]
  },
  {
   "cell_type": "code",
   "execution_count": null,
   "metadata": {},
   "outputs": [],
   "source": [
    "curr_weeknr = srtime.current_weeknr()\n",
    "weeknr_report_number = {w: r for r, w in enumerate(srtime.report_weeknrs(), 1)}\n",
    "fumbblyears = sorted(range(1, srtime.weeknr_fumbblyear(max(weeknr_report_number)) + 1))"
   ]
  },
  {
   "cell_type": "code",
   "execution_count": null,
   "metadata": {},
   "outputs": [],
   "source": [
    "updated = srtime.now().strftime('%Y-%m-%d %H:%M')\n",
    "updated"
   ]
  },
  {
   "cell_type": "markdown",
   "metadata": {},
   "source": [
    "## Add New Tournaments"
   ]
  },
  {
   "cell_type": "code",
   "execution_count": null,
   "metadata": {},
   "outputs": [],
   "source": [
    "tournament_format_to_elim = {'King': 'E', 'Knockout': 'E', 'RoundRobin': 'N', 'Swiss': 'N'}\n",
    "titles = {row[TI.TITLE] for row in srdata.data[\"tournaments\"] if TI.TITLE < len(row) and row[TI.TITLE]}\n",
    "print('Current titles: ' + ', '.join(sorted(titles)))\n",
    "slots = set(srdata.data[\"slot\"].keys())\n",
    "print('Current slots: ' + ', '.join(sorted(slots)))"
   ]
  },
  {
   "cell_type": "code",
   "execution_count": null,
   "metadata": {},
   "outputs": [],
   "source": [
    "class ClassIdx(enum.IntEnum):\n",
    "  FORMAT = 0\n",
    "  RANK = 1\n",
    "  LEVEL = 2\n",
    "  TEAMS = 3\n",
    "CI = ClassIdx"
   ]
  },
  {
   "cell_type": "code",
   "execution_count": null,
   "metadata": {},
   "outputs": [],
   "source": [
    "new_rows = []\n",
    "for groupId in srdata.data[\"groups\"]:\n",
    "    group_tournaments = fumbblapi.get__group_tournaments(groupId)\n",
    "    for tournament in group_tournaments:\n",
    "        tournamentId = tournament[\"id\"]\n",
    "        class_parts = [None] * (CI.LEVEL + 1)\n",
    "        if tournamentId not in srdata.data[\"tournament\"]:\n",
    "            print(f'{tournament[\"name\"].strip()} [{tournamentId}|{groupId}]')\n",
    "            print('-' * 100)\n",
    "            # determining type\n",
    "            old_group_tournaments = fumbblapi.old_get__group_tournaments(groupId)\n",
    "            tournament_format = srtournament.format_(old_group_tournaments, tournamentId)\n",
    "            class_parts[CI.FORMAT] = tournament_format_to_elim[tournament_format]\n",
    "            # asking for tournament name\n",
    "            name = input('Name? (Hit Enter to keep current one) ').strip()\n",
    "            if not name:\n",
    "                name = tournament[\"name\"].strip()\n",
    "            # asking for main class and level\n",
    "            while class_parts[CI.RANK] not in {'MI', 'MA', 'QU'}:\n",
    "                class_parts[CI.RANK] = input('Main Class? (MI/MA/QU; Enter for MI) ').strip().upper()\n",
    "                if not class_parts[CI.RANK]:\n",
    "                    class_parts[CI.RANK] = 'MI'\n",
    "            while True:\n",
    "                class_parts[CI.LEVEL] = input('Level? (integer; Enter for 1) ').strip()\n",
    "                if not class_parts[CI.LEVEL]:\n",
    "                    class_parts[CI.LEVEL] = '1'\n",
    "                if not class_parts[CI.LEVEL].isdecimal():\n",
    "                    continue\n",
    "                class_ = '/'.join(class_parts)\n",
    "                points_keys = {k for k in srdata.data[\"points\"].keys() if k.startswith(class_)}\n",
    "                if points_keys:\n",
    "                    break\n",
    "            if class_parts[CI.RANK] != 'QU':\n",
    "                # asking for title\n",
    "                while True:\n",
    "                    title = input('Title? (Enter for none) ').strip().upper()\n",
    "                    if title and title not in titles:\n",
    "                        sure = None\n",
    "                        while sure not in ('Y', 'N'):\n",
    "                            sure = input('Are you sure to create a new title? (Y/N) ').strip().upper()\n",
    "                        if sure == 'N':\n",
    "                            continue\n",
    "                    break\n",
    "                # asking for slot\n",
    "                slot = None\n",
    "                while slot not in slots:\n",
    "                    slot = input('Slot? (Enter for R) ').strip().upper()\n",
    "                    if not slot:\n",
    "                        slot = 'R'\n",
    "            if class_parts[CI.RANK] == 'MA':\n",
    "                # asking whether to join unchained qualifiers\n",
    "                qurows = [r for r in srdata.data[\"tournament\"] if r[TI.TOP_ID] is None and r[TI.CLASS].startswith('QU')]\n",
    "                if qurows:\n",
    "                    print('Check whether the following tournaments are qualifiers of this one (Y/N): ')\n",
    "                for row2 in qurows:\n",
    "                    yn = None\n",
    "                    while yn not in ('Y', 'N'):\n",
    "                        yn = input(f' {row2[TI.NAME]} [{row2[TI.ID]}|{row2[TI.GROUP_ID]}]').srtip().upper()\n",
    "                    if yn == 'Y':\n",
    "                        row2[TOP_TOURNAMENT] = tournamentId\n",
    "\n",
    "            # determining teams\n",
    "            if class_parts[CI.FORMAT] == 'E':\n",
    "                schedule = fumbblapi.get__tournament_schedule(tournamentId)\n",
    "                teams = len(srschedule.teams(schedule))\n",
    "                class_parts.append(str(teams))\n",
    "                class_ += f'/{teams}'\n",
    "            # we now have the tournament class\n",
    "            top_id = (None if class_parts[CI.RANK] == 'QU' else 0)\n",
    "            winner_id = tournament.get(\"winner\", {}).get(\"id\")\n",
    "            row = [None] * (TI.WINNER_ID + 1)\n",
    "            row[TI.ID] = tournamentId\n",
    "            row[TI.TOP_ID] = top_id\n",
    "            row[TI.GROUP_ID] = groupId\n",
    "            row[TI.NAME] = name\n",
    "            row[TI.CLASS] = class_\n",
    "            row[TI.WINNER_ID] = winner_id\n",
    "            if class_parts[CI.RANK] != 'QU':\n",
    "                row.extend([None] * (TI.EXIT_WEEKNR - TI.WINNER_ID))\n",
    "                row[TI.TITLE] = title\n",
    "                row[TI.FIRST_SLOT_GROUP] = slot\n",
    "            print(row)\n",
    "            print()\n",
    "            # add row to the tournament data\n",
    "            new_rows.append(row)\n",
    "            srdata.data[\"tournament\"][row[TOURNAMENT]] = row\n",
    "            bisect.insort(srdata.data[\"tournaments\"], row)"
   ]
  },
  {
   "cell_type": "markdown",
   "metadata": {},
   "source": [
    "\n",
    "## Refresh 'In Progress' Tournaments"
   ]
  },
  {
   "cell_type": "code",
   "execution_count": null,
   "metadata": {},
   "outputs": [],
   "source": [
    "for row in srdata.data[\"tournaments\"]:\n",
    "    if row[TI.TOP_ID] or len(row) < TI.ENTER_WEEKNR or row[TI.ENTER_WEEKNR]:\n",
    "        continue\n",
    "    group_tournaments = fumbblapi.get__group_tournaments(row[TI.GROUP_ID])\n",
    "    tournament = [t for t in group_tournaments if t[\"id\"] == row[TI.ID]][0]\n",
    "    if tournament[\"status\"] != 'Completed':\n",
    "        continue\n",
    "    schedule = fumbblapi.get__tournament_schedule(row[TI.ID])\n",
    "    report_weeknr = row[TI.ENTER_WEEKNR] = srschedule.report_weeknr(schedule)\n",
    "    row[TI.EXIT_WEEKNR] = report_weeknr + (78 if row[-4] else 52)\n",
    "    print('Completed: ', row)\n",
    "    prev, next_ = srtournament.prevnext_title(row)\n",
    "    if prev and row[TI.ENTER_WEEKNR] < prev[TI.EXIT_WEEKNR]:\n",
    "        print(f'Exit weeknr changed for the following tournament from {prev[TI.EXIT_WEEKNR]} to {row[TI.ENTER_WEEKNR]}:')\n",
    "        prev[TI.EXIT_WEEKNR] = row[TI.ENTER_WEEKNR]\n",
    "        print(prev)"
   ]
  },
  {
   "cell_type": "markdown",
   "metadata": {},
   "source": [
    "## Save TOURNAMENTS.JSON"
   ]
  },
  {
   "cell_type": "code",
   "execution_count": null,
   "metadata": {},
   "outputs": [],
   "source": [
    "t = '[\\n' + ',\\n'.join(json.dumps(row) for row in srdata.data[\"tournaments\"]) + '\\n]'"
   ]
  },
  {
   "cell_type": "code",
   "execution_count": null,
   "metadata": {},
   "outputs": [],
   "source": [
    "with (sr_data_path / 'tournaments.json').open('w') as f:\n",
    "    f.write(t)"
   ]
  },
  {
   "cell_type": "markdown",
   "metadata": {},
   "source": [
    "## Tournaments Table"
   ]
  },
  {
   "cell_type": "code",
   "execution_count": null,
   "metadata": {},
   "outputs": [],
   "source": [
    "rank_order = ('MA', 'QU', 'MI')\n",
    "pending_rows_ = []\n",
    "finished_rows_ = []\n",
    "for row in srdata.data[\"tournaments\"]:\n",
    "    name = row[TI.NAME]\n",
    "    nameurl = tournamenturlfs.format(groupId=row[TI.GROUP_ID], tournamentId=row[TI.ID])\n",
    "    tname = f'[{name}|{nameurl}]'\n",
    "    class_ = row[TI.CLASS]\n",
    "    class_parts = class_.split('/')\n",
    "    if len(class_parts) == CI.LEVEL + 1:\n",
    "        format__, rank, level = class_parts\n",
    "        teams = ''\n",
    "    elif len(class_parts) == CI.TEAMS + 1:\n",
    "        format__, rank, level, teams = class_parts\n",
    "    keyclass = srpoints.get_keyclass(row[TI.CLASS])\n",
    "    points = srdata.data['points'][keyclass]\n",
    "    first_slot_group = ' '\n",
    "    enter_date, exit_date = ' ', ' '\n",
    "    enter_report, exit_report = None, None\n",
    "    if row[TI.TOP_ID] is None:\n",
    "        top_name = ''\n",
    "        top_enter_weeknr = 0\n",
    "        top_exit_weeknr = 0\n",
    "        top_slot = '?'\n",
    "    elif row[TI.TOP_ID] == 0:\n",
    "        first_slot_group = row[TI.FIRST_SLOT_GROUP]\n",
    "        top_name = name\n",
    "        top_enter_weeknr = row[TI.ENTER_WEEKNR] or 0\n",
    "        top_exit_weeknr = row[TI.EXIT_WEEKNR] or 0\n",
    "        top_slot = row[TI.FIRST_SLOT_GROUP]\n",
    "        if top_enter_weeknr:\n",
    "            enter_date = srtime.weeknr_firstdate(top_enter_weeknr).isoformat()\n",
    "            exit_date = srtime.weeknr_firstdate(row[TI.EXIT_WEEKNR]).isoformat()\n",
    "            enter_report = weeknr_report_number[top_enter_weeknr]\n",
    "            exit_report = weeknr_report_number.get(row[TI.EXIT_WEEKNR])\n",
    "    else:\n",
    "        top_row = srdata.data[\"tournament\"][row[TI.TOP_ID]]\n",
    "        top_name = top_row[TI.NAME]\n",
    "        top_enter_weeknr = top_row[TI.ENTER_WEEKNR] or 0\n",
    "        top_exit_weeknr = top_row[TI.EXIT_WEEKNR] or 0\n",
    "        top_slot = top_row[TI.FIRST_SLOT_GROUP]\n",
    "    if enter_report:\n",
    "        tenter_date = f'[{enter_date}|SR-Report-{enter_report}]'\n",
    "    else:\n",
    "        tenter_date = enter_date\n",
    "    if exit_report:\n",
    "        texit_date = f'[{exit_date}|SR-Report-{exit_report}]'\n",
    "    elif (\n",
    "            row[TI.TOP_ID] == 0\n",
    "            and row[TI.ENTER_WEEKNR]\n",
    "            and row[TI.EXIT_WEEKNR]\n",
    "            and row[TI.ENTER_WEEKNR] + 52 < row[TI.EXIT_WEEKNR]\n",
    "        ):\n",
    "        texit_date = f'({exit_date})'\n",
    "    else:\n",
    "        texit_date = exit_date\n",
    "    top_slot_sort = {'FC': 0, 'MA': 1, 'R': 2, '?': 3, 'W': 4, 'NE': 5}[top_slot]\n",
    "    if top_enter_weeknr:# and top_enter_weeknr <= curr_weeknr:\n",
    "        sort_values = [-top_enter_weeknr, (rank == 'MI'), top_slot_sort, top_name, -int(level), row[TI.ID], top_exit_weeknr]\n",
    "        rows = finished_rows_\n",
    "    else:\n",
    "        sort_values = [-top_enter_weeknr, (rank == 'MI'), top_slot_sort, top_name, -int(level), row[TI.ID]]\n",
    "        rows = pending_rows_\n",
    "    table_values = [tname, rank, level, format__, teams, points, first_slot_group, tenter_date, texit_date]\n",
    "    if first_slot_group in ('NE'):\n",
    "        continue\n",
    "    bisect.insort(rows, [sort_values, table_values])\n",
    "pending_rows = [t[1] for t in pending_rows_]\n",
    "finished_rows = [t[1] for t in finished_rows_]"
   ]
  },
  {
   "cell_type": "markdown",
   "metadata": {},
   "source": [
    "### Reports Page Preparation"
   ]
  },
  {
   "cell_type": "code",
   "execution_count": null,
   "metadata": {},
   "outputs": [],
   "source": [
    "report_enter_tournaments = {}\n",
    "report_exit_tournaments = {}\n",
    "for i, (sort_values, table_values) in enumerate(finished_rows_):\n",
    "    tournamentId = sort_values[-2]\n",
    "    row = srdata.data[\"tournament\"][tournamentId]\n",
    "    if row[TI.TOP_ID] != 0:\n",
    "        continue\n",
    "    nametext = table_values[0]\n",
    "    title = row[TI.TITLE]\n",
    "    if title:\n",
    "        nametext = f'__{nametext}__'\n",
    "    enter_weeknr = row[TI.ENTER_WEEKNR]\n",
    "    exit_weeknr = row[TI.EXIT_WEEKNR]\n",
    "    enter_reportnr = weeknr_report_number[enter_weeknr]\n",
    "    report_enter_tournaments.setdefault(enter_reportnr, []).append(nametext)\n",
    "    try:\n",
    "        exit_reportnr = weeknr_report_number[exit_weeknr]\n",
    "    except KeyError:\n",
    "        exit_reportnr = None\n",
    "    else:\n",
    "        report_exit_tournaments.setdefault(exit_reportnr, []).append(([exit_weeknr] + sort_values[1:],  nametext))\n",
    "for exit_reportnr, li in report_exit_tournaments.items():\n",
    "    report_exit_tournaments[exit_reportnr] = [nametext for sort_values, nametext in sorted(li)]"
   ]
  },
  {
   "cell_type": "code",
   "execution_count": null,
   "metadata": {},
   "outputs": [],
   "source": [
    "weeknrs_of_years = {\n",
    "    y: [w for w in sorted(weeknr_report_number) if srtime.weeknr_fumbblyear(w) == y] \n",
    "    for y in fumbblyears\n",
    "}"
   ]
  },
  {
   "cell_type": "markdown",
   "metadata": {},
   "source": [
    "### Pending Tournaments"
   ]
  },
  {
   "cell_type": "markdown",
   "metadata": {},
   "source": [
    "The cell below generates the data of pending tournaments. After run, go below to the _Generate content_ section."
   ]
  },
  {
   "cell_type": "code",
   "execution_count": null,
   "metadata": {},
   "outputs": [],
   "source": [
    "pagename = f'SR-PendingTournaments'\n",
    "template_filename = 'SR-Tournaments.template.phpwiki'\n",
    "title = f'OBC Sport SR Rankings Pending Tournaments'\n",
    "tournaments_rows = [row[:-2] for row in pending_rows]\n",
    "content = srpages.table(tournaments_rows,\n",
    "        align='LCCCCLC', \n",
    "        header=['Name', 'Rank', 'Level', 'Format', 'Teams', 'Points', 'First Slot Group'],\n",
    ")\n",
    "params = {'updated': updated, 'title': title, 'content': content}"
   ]
  },
  {
   "cell_type": "markdown",
   "metadata": {},
   "source": [
    "### Year Selection"
   ]
  },
  {
   "cell_type": "markdown",
   "metadata": {},
   "source": [
    "#### Set the Year"
   ]
  },
  {
   "cell_type": "markdown",
   "metadata": {},
   "source": [
    "The cells below provide varios ways to set the year for the generated page. "
   ]
  },
  {
   "cell_type": "markdown",
   "metadata": {},
   "source": [
    "The first option is to edit it manually. Edit the next cell and go to _Filter Tournaments by Year_ subsection:"
   ]
  },
  {
   "cell_type": "code",
   "execution_count": null,
   "metadata": {},
   "outputs": [],
   "source": [
    "y = 17"
   ]
  },
  {
   "cell_type": "markdown",
   "metadata": {},
   "source": [
    "The following cell creates a generator which yields all the years involved, one by one. Normally the last two years should get refreshed for every Reports which is done by the second next cell. Run the first only if you want to refresh tournament pages for all years."
   ]
  },
  {
   "cell_type": "code",
   "execution_count": null,
   "metadata": {},
   "outputs": [],
   "source": [
    "gen = iter(fumbblyears)\n",
    "print('; '.join(str(y) for y in fumbblyears))"
   ]
  },
  {
   "cell_type": "code",
   "execution_count": null,
   "metadata": {},
   "outputs": [],
   "source": [
    "gen = iter(fumbblyears[-3:])\n",
    "print('; '.join(str(y) for y in fumbblyears[-3:]))"
   ]
  },
  {
   "cell_type": "markdown",
   "metadata": {},
   "source": [
    "##### Year Selection Loop"
   ]
  },
  {
   "cell_type": "markdown",
   "metadata": {},
   "source": [
    "You should run the cell below and go forward to the _Filter Tournaments by Year_ subsection for every year in the collection."
   ]
  },
  {
   "cell_type": "code",
   "execution_count": null,
   "metadata": {},
   "outputs": [],
   "source": [
    "y = next(gen)\n",
    "print(y)"
   ]
  },
  {
   "cell_type": "markdown",
   "metadata": {},
   "source": [
    "### Tournaments Page"
   ]
  },
  {
   "cell_type": "markdown",
   "metadata": {},
   "source": [
    "The cell below generates the tournaments data of the actual year. After run, go below to the Generate content section."
   ]
  },
  {
   "cell_type": "code",
   "execution_count": null,
   "metadata": {},
   "outputs": [],
   "source": [
    "pagename = f'SR-Tournaments-Y{y}'\n",
    "template_filename = 'SR-Tournaments.template.phpwiki'\n",
    "title = f'Tournaments of FUMBBL Year {roman.to_roman(y)}'\n",
    "tournaments_rows = [t[1] for t in finished_rows_ if srtime.weeknr_fumbblyear(-t[0][0]) == y]\n",
    "content = srpages.table(tournaments_rows,\n",
    "        align='LCCCCLCCC', \n",
    "        header=['Name', 'Rnk', 'Lvl', 'Fmt', 'Tms', 'Points', 'FSG', 'Enter Date', 'Exit Date'],\n",
    ")\n",
    "params = {'updated': updated, 'title': title, 'content': content}"
   ]
  },
  {
   "cell_type": "markdown",
   "metadata": {},
   "source": [
    "### Reports Page"
   ]
  },
  {
   "cell_type": "code",
   "execution_count": null,
   "metadata": {},
   "outputs": [],
   "source": [
    "pagename = f'SR-Reports-Y{y}'\n",
    "template_filename = 'SR-Reports.template.phpwiki'\n",
    "title = f'OBC Sport SR Rankings Reports of FUMBBL Year {roman.to_roman(y)}'\n",
    "table = []\n",
    "for w in reversed(weeknrs_of_years[y]):\n",
    "    date = srtime.weeknr_firstdate(w).isoformat()\n",
    "    r = weeknr_report_number[w]\n",
    "    reporttext = f'[#{r}|SR-Report-{r}]'\n",
    "    enter_tournaments = ' %%% '.join(report_enter_tournaments.get(r, []))\n",
    "    exit_tournaments = ' %%% '.join(report_exit_tournaments.get(r, []))\n",
    "    row = [reporttext, date, enter_tournaments, exit_tournaments]\n",
    "    table.append(row)\n",
    "content = srpages.table(table,\n",
    "        align='LCCC', \n",
    "        header=['Report Nr.', 'Report Date', 'Tournaments Entered', 'Tournaments Exited'],\n",
    ")\n",
    "params = {'updated': updated, 'title': title, 'content': content}"
   ]
  },
  {
   "cell_type": "markdown",
   "metadata": {},
   "source": [
    "### Generate content"
   ]
  },
  {
   "cell_type": "code",
   "execution_count": null,
   "metadata": {},
   "outputs": [],
   "source": [
    "with (sr_pages_path / template_filename).open() as f:\n",
    "    content = f.read().format(**params)"
   ]
  },
  {
   "cell_type": "markdown",
   "metadata": {},
   "source": [
    "### Edit Manually"
   ]
  },
  {
   "cell_type": "markdown",
   "metadata": {},
   "source": [
    "Without the closed source `fumbbl_session` library, one should manually edit the page generated by the cell below. Please copy the result of the second next cell below to the clipboard and paste it to the edit box of the Tournaments page."
   ]
  },
  {
   "cell_type": "code",
   "execution_count": null,
   "metadata": {},
   "outputs": [],
   "source": [
    "print(f'https://fumbbl.com/help:{pagename}?action=edit')"
   ]
  },
  {
   "cell_type": "code",
   "execution_count": null,
   "metadata": {},
   "outputs": [],
   "source": [
    "print(content)"
   ]
  },
  {
   "cell_type": "markdown",
   "metadata": {},
   "source": [
    "### Edit Automatically"
   ]
  },
  {
   "cell_type": "code",
   "execution_count": null,
   "metadata": {},
   "outputs": [],
   "source": [
    "import fumbbl_session as S"
   ]
  },
  {
   "cell_type": "code",
   "execution_count": null,
   "metadata": {},
   "outputs": [],
   "source": [
    "login_data_path = pathlib.Path('login.json')"
   ]
  },
  {
   "cell_type": "code",
   "execution_count": null,
   "metadata": {},
   "outputs": [],
   "source": [
    "with login_data_path.open() as f:\n",
    "    _login = json.load(f)\n",
    "S.log_in(**_login)"
   ]
  },
  {
   "cell_type": "code",
   "execution_count": null,
   "metadata": {},
   "outputs": [],
   "source": [
    "S.helppage.edit(pagename, content)"
   ]
  },
  {
   "cell_type": "markdown",
   "metadata": {},
   "source": [
    "### Verify Result"
   ]
  },
  {
   "cell_type": "code",
   "execution_count": null,
   "metadata": {},
   "outputs": [],
   "source": [
    "print(f'https://fumbbl.com/help:{pagename}')"
   ]
  },
  {
   "cell_type": "code",
   "execution_count": null,
   "metadata": {},
   "outputs": [],
   "source": []
  }
 ],
 "metadata": {
  "kernelspec": {
   "display_name": "Python 3",
   "language": "python",
   "name": "python3"
  },
  "language_info": {
   "codemirror_mode": {
    "name": "ipython",
    "version": 3
   },
   "file_extension": ".py",
   "mimetype": "text/x-python",
   "name": "python",
   "nbconvert_exporter": "python",
   "pygments_lexer": "ipython3",
   "version": "3.6.3"
  }
 },
 "nbformat": 4,
 "nbformat_minor": 2
}
