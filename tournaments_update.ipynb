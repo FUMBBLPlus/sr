{
 "cells": [
  {
   "cell_type": "code",
   "execution_count": null,
   "metadata": {},
   "outputs": [],
   "source": [
    "%load_ext autoreload\n",
    "%autoreload 2"
   ]
  },
  {
   "cell_type": "code",
   "execution_count": null,
   "metadata": {},
   "outputs": [],
   "source": [
    "import bisect\n",
    "import datetime\n",
    "import json\n",
    "import pathlib"
   ]
  },
  {
   "cell_type": "code",
   "execution_count": null,
   "metadata": {},
   "outputs": [],
   "source": [
    "import fumbblapi\n",
    "import srdata\n",
    "import srpages\n",
    "import srschedule\n",
    "import srtime\n",
    "import srtournament"
   ]
  },
  {
   "cell_type": "code",
   "execution_count": null,
   "metadata": {},
   "outputs": [],
   "source": [
    "sr_data_path = '../sr-data'\n",
    "sr_pages_path = '../sr-pages'"
   ]
  },
  {
   "cell_type": "code",
   "execution_count": null,
   "metadata": {},
   "outputs": [],
   "source": [
    "srdata.load(sr_data_path)"
   ]
  },
  {
   "cell_type": "code",
   "execution_count": null,
   "metadata": {},
   "outputs": [],
   "source": [
    "TOURNAMENT = 0\n",
    "TOP_TOURNAMENT = 1\n",
    "GROUP = 2\n",
    "NAME = 3\n",
    "CLASS = 4\n",
    "TITLE = 5\n",
    "FIRST_SLOT_GROUP = 6\n",
    "ENTER_WEEKNR = 7\n",
    "EXIT_WEEKNR = 8"
   ]
  },
  {
   "cell_type": "code",
   "execution_count": null,
   "metadata": {},
   "outputs": [],
   "source": [
    "updated = srtime.now().strftime('%Y-%m-%d %H:%M')\n",
    "updated"
   ]
  },
  {
   "cell_type": "markdown",
   "metadata": {},
   "source": [
    "## Add New Tournaments"
   ]
  },
  {
   "cell_type": "code",
   "execution_count": null,
   "metadata": {},
   "outputs": [],
   "source": [
    "tournament_format_to_elim = {'King': 'E', 'Knockout': 'E', 'RoundRobin': 'N', 'Swiss': 'N'}\n",
    "titles = {row[5] for row in srdata.data[\"tournaments\"] if 6 <= len(row) and row[5]}\n",
    "print('Current titles: ' + ', '.join(sorted(titles)))\n",
    "slots = set(srdata.data[\"slot\"].keys())\n",
    "print('Current slots: ' + ', '.join(sorted(slots)))"
   ]
  },
  {
   "cell_type": "code",
   "execution_count": null,
   "metadata": {},
   "outputs": [],
   "source": [
    "new_rows = []\n",
    "for groupId in srdata.data[\"groups\"]:\n",
    "    group_tournaments = fumbblapi.get__group_tournaments(groupId)\n",
    "    for tournament in group_tournaments:\n",
    "        tournamentId = tournament[\"id\"]\n",
    "        class_parts = [None] * 4\n",
    "        if tournamentId not in srdata.data[\"tournament\"]:\n",
    "            print(f'{tournament[\"name\"].strip()} [{tournamentId}|{groupId}]')\n",
    "            print('-' * 100)\n",
    "            # asking for tournament name\n",
    "            name = input('Name? (Hit Enter to keep current one) ').strip()\n",
    "            if not name:\n",
    "                name = tournament[\"name\"].strip()\n",
    "            # asking for main class and level\n",
    "            while class_parts[0] not in {'MI', 'MA', 'QU'}:\n",
    "                class_parts[0] = input('Main Class? (MI/MA/QU; Enter for MI) ').strip().upper()\n",
    "                if not class_parts[0]:\n",
    "                    class_parts[0] = 'MI'\n",
    "            while True:\n",
    "                class_parts[1] = input('Level? (integer; Enter for 1) ').strip()\n",
    "                if not class_parts[1]:\n",
    "                    class_parts[1] = '1'\n",
    "                if not class_parts[1].isdecimal():\n",
    "                    continue\n",
    "                alloc_keys = {k for k in srdata.data[\"alloc\"].keys() if k.startswith('/'.join(class_parts[:2]))}\n",
    "                if alloc_keys:\n",
    "                    break\n",
    "            if class_parts[0] != 'QU':\n",
    "                # asking for title\n",
    "                while True:\n",
    "                    title = input('Title? (Enter for none) ').strip().upper()\n",
    "                    if title and title not in titles:\n",
    "                        sure = None\n",
    "                        while sure not in ('Y', 'N'):\n",
    "                            sure = input('Are you sure to create a new title? (Y/N) ').strip().upper()\n",
    "                        if sure == 'N':\n",
    "                            continue\n",
    "                    break\n",
    "                # asking for slot\n",
    "                slot = None\n",
    "                while slot not in slots:\n",
    "                    slot = input('Slot? (Enter for R) ').strip().upper()\n",
    "                    if not slot:\n",
    "                        slot = 'R'\n",
    "            if class_parts[0] == 'MA':\n",
    "                # asking whether to join unchained qualifiers\n",
    "                qurows = [row for row in srdata.data[\"tournament\"] if row[1] is None and row[4].startswith('QU')]\n",
    "                if qurows:\n",
    "                    print('Check whether the following tournaments are qualifiers of this one (Y/N): ')\n",
    "                for row2 in qurows:\n",
    "                    yn = None\n",
    "                    while yn not in ('Y', 'N'):\n",
    "                        yn = input(f' {row2[NAME]} [{row2[TOURNAMENT]}|{row2[GROUP]}]').srtip().upper()\n",
    "                    if yn == 'Y':\n",
    "                        row2[TOP_TOURNAMENT] = tournamentId\n",
    "            # determining type\n",
    "            tournament_format = srtournament.format_(groupId, tournamentId)\n",
    "            class_parts[2] = tournament_format_to_elim[tournament_format]\n",
    "            # determining size class\n",
    "            alloc_keys = {k for k in srdata.data[\"alloc\"].keys() if k.startswith('/'.join(class_parts[:3]))}\n",
    "            size_classes = [a.split('/')[-1].split('-') for a in alloc_keys]\n",
    "            size_classes = [([t[0], t[1]] if len(t)==1 else t) for t in size_classes]\n",
    "            size_classes = sorted([range(int(t[0]), int(t[1]) + 1) for t in size_classes], key=lambda r: (r.start, r.stop))\n",
    "            schedule = fumbblapi.get__tournament_schedule(tournamentId)\n",
    "            teams = len(srschedule.teams(schedule))\n",
    "            for size_class in size_classes:\n",
    "                if teams in size_class:\n",
    "                    class_parts[3] = f'{size_class.start}-{size_class.stop-1}'\n",
    "            # we now have the tournament class\n",
    "            class_ = '/'.join(class_parts)\n",
    "            top_id = (None if class_.startswith('QU') else 0)\n",
    "            row = [tournamentId, top_id, groupId, name, class_]\n",
    "            if not class_.startswith('QU'):\n",
    "                row.extend([title, slot, None, None])\n",
    "            print(row)\n",
    "            print()\n",
    "            # add row to the tournament data\n",
    "            new_rows.append(row)\n",
    "            srdata.data[\"tournament\"][row[TOURNAMENT]] = row\n",
    "            bisect.insort(srdata.data[\"tournaments\"], row)"
   ]
  },
  {
   "cell_type": "markdown",
   "metadata": {},
   "source": [
    "## Refresh 'In Progress' Tournaments"
   ]
  },
  {
   "cell_type": "code",
   "execution_count": null,
   "metadata": {},
   "outputs": [],
   "source": [
    "for row in srdata.data[\"tournaments\"]:\n",
    "    if row[TOP_TOURNAMENT] or len(row) < ENTER_WEEKNR or row[ENTER_WEEKNR]:\n",
    "        continue\n",
    "    group_tournaments = fumbblapi.get__group_tournaments(row[GROUP])\n",
    "    tournament = [t for t in group_tournaments if t[\"id\"] == row[TOURNAMENT]][0]\n",
    "    if tournament[\"status\"] != 'Completed':\n",
    "        continue\n",
    "    schedule = fumbblapi.get__tournament_schedule(row[0])\n",
    "    report_weeknr = row[ENTER_WEEKNR] = srschedule.report_weeknr(schedule)\n",
    "    row[EXIT_WEEKNR] = report_weeknr + (78 if row[-4] else 52)\n",
    "    print('Completed: ', row)\n",
    "    if row[TITLE]:\n",
    "        for row2 in srdata.data[\"tournaments\"]:\n",
    "            if len(row2) <= TITLE:\n",
    "                continue\n",
    "            if row2[TITLE] != row[TITLE]:\n",
    "                continue\n",
    "            if row2 == row:\n",
    "                continue\n",
    "            if row2[ENTER_WEEKNR] + 78 == row2[EXIT_WEEKNR] and row[ENTER_WEEKNR] <= row2[EXIT_WEEKNR]:\n",
    "                print(f'Exit weeknr changed for the following tournament from {row2[EXIT_WEEKNR]} to {row[ENTER_WEEKNR]}:')\n",
    "                row2[EXIT_WEEKNR] = row[ENTER_WEEKNR]\n",
    "                print(row2)"
   ]
  },
  {
   "cell_type": "markdown",
   "metadata": {},
   "source": [
    "## Save TOURNAMENTS.JSON"
   ]
  },
  {
   "cell_type": "code",
   "execution_count": null,
   "metadata": {},
   "outputs": [],
   "source": [
    "t = '[\\n' + ',\\n'.join(json.dumps(row) for row in srdata.data[\"tournaments\"]) + '\\n]'"
   ]
  },
  {
   "cell_type": "code",
   "execution_count": null,
   "metadata": {},
   "outputs": [],
   "source": [
    "with open(sr_data_path + '/tournaments.json', 'w') as f:\n",
    "    f.write(t)"
   ]
  },
  {
   "cell_type": "markdown",
   "metadata": {},
   "source": [
    "## Tournaments Table"
   ]
  },
  {
   "cell_type": "code",
   "execution_count": null,
   "metadata": {},
   "outputs": [],
   "source": [
    "weeknr_report_number = {w: r for r, w in enumerate(srtime.report_weeknrs(), 1)}"
   ]
  },
  {
   "cell_type": "code",
   "execution_count": null,
   "metadata": {},
   "outputs": [],
   "source": [
    "nameurlfs = 'https://fumbbl.com/p/group?op=view&at=1&group={group}&p=tournaments&show={tournament}&showallrounds=1'"
   ]
  },
  {
   "cell_type": "code",
   "execution_count": null,
   "metadata": {},
   "outputs": [],
   "source": [
    "rank_order = ('MA', 'QU', 'MI')\n",
    "pending_rows_ = []\n",
    "finished_rows_ = []\n",
    "for row in srdata.data[\"tournaments\"]:\n",
    "    name = row[NAME]\n",
    "    nameurl = nameurlfs.format(group=row[GROUP], tournament=row[TOURNAMENT])\n",
    "    tname = f'[{name}|{nameurl}]'\n",
    "    rank, level, format_, teams = row[CLASS].split('/')\n",
    "    points = srdata.data['points'][row[CLASS]]\n",
    "    first_slot_group = ' '\n",
    "    enter_date, exit_date = ' ', ' '\n",
    "    enter_report, exit_report = None, None\n",
    "    if row[TOP_TOURNAMENT] is None:\n",
    "        top_name = ''\n",
    "        top_enter_weeknr = None\n",
    "    elif row[TOP_TOURNAMENT] == 0:\n",
    "        first_slot_group = row[FIRST_SLOT_GROUP]\n",
    "        top_name = name\n",
    "        top_enter_weeknr = row[ENTER_WEEKNR]\n",
    "        if top_enter_weeknr:\n",
    "            enter_date = srtime.weeknr_firstdate(top_enter_weeknr).isoformat()\n",
    "            exit_date = srtime.weeknr_firstdate(row[EXIT_WEEKNR]).isoformat()\n",
    "            enter_report = weeknr_report_number[top_enter_weeknr]\n",
    "            exit_report = weeknr_report_number.get(row[EXIT_WEEKNR])\n",
    "    else:\n",
    "        top_row = srdata.data[\"tournament\"][row[TOP_TOURNAMENT]]\n",
    "        top_name = top_row[NAME]\n",
    "        top_enter_weeknr = top_row[ENTER_WEEKNR]\n",
    "    if enter_report:\n",
    "        tenter_date = f'[{enter_date}|SR-Report-{enter_report}]'\n",
    "    else:\n",
    "        tenter_date = enter_date\n",
    "    if exit_report:\n",
    "        texit_date = f'[{exit_date}|SR-Report-{exit_report}]'\n",
    "    elif row[TOP_TOURNAMENT] == 0 and row[ENTER_WEEKNR] and row[EXIT_WEEKNR] and row[ENTER_WEEKNR] + 52 < row[EXIT_WEEKNR]:\n",
    "        texit_date = f'({exit_date})'\n",
    "    else:\n",
    "        texit_date = exit_date\n",
    "    if top_enter_weeknr:\n",
    "        sort_values = [-top_enter_weeknr, (rank == 'MI'), top_name, (rank == 'QU'), name]\n",
    "        rows = finished_rows_\n",
    "    else:\n",
    "        sort_values = [0, (rank == 'MI'), top_name, (rank == 'QU'), name]\n",
    "        rows = pending_rows_\n",
    "    table_values = [tname, rank, level, format_, teams, points, first_slot_group, tenter_date, texit_date]\n",
    "    bisect.insort(rows, [sort_values, table_values])\n",
    "pending_rows = [t[1] for t in pending_rows_]\n",
    "finished_rows = [t[1] for t in finished_rows_]"
   ]
  },
  {
   "cell_type": "code",
   "execution_count": null,
   "metadata": {},
   "outputs": [],
   "source": [
    "pending_rows"
   ]
  },
  {
   "cell_type": "code",
   "execution_count": null,
   "metadata": {},
   "outputs": [],
   "source": [
    "pending = srpages.table(\n",
    "      [row[:-2] for row in pending_rows],\n",
    "      align='LCCCCLC',\n",
    "      header=['Name', 'Rank', 'Level', 'Format', 'Teams', 'Points', 'First Slot Group']\n",
    ")"
   ]
  },
  {
   "cell_type": "code",
   "execution_count": null,
   "metadata": {},
   "outputs": [],
   "source": [
    "finished = srpages.table(\n",
    "      [row for row in finished_rows],\n",
    "      align='LCCCCLCRR',\n",
    "      header=['Name', 'Rnk', 'Lvl', 'Fmt', 'Tms', 'Points', 'FSG', 'Enter Date', 'Exit Date']\n",
    ")"
   ]
  },
  {
   "cell_type": "code",
   "execution_count": null,
   "metadata": {},
   "outputs": [],
   "source": []
  }
 ],
 "metadata": {
  "kernelspec": {
   "display_name": "Python 3",
   "language": "python",
   "name": "python3"
  },
  "language_info": {
   "codemirror_mode": {
    "name": "ipython",
    "version": 3
   },
   "file_extension": ".py",
   "mimetype": "text/x-python",
   "name": "python",
   "nbconvert_exporter": "python",
   "pygments_lexer": "ipython3",
   "version": "3.6.3"
  }
 },
 "nbformat": 4,
 "nbformat_minor": 2
}
