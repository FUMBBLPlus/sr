{
 "cells": [
  {
   "cell_type": "code",
   "execution_count": 1,
   "metadata": {},
   "outputs": [],
   "source": [
    "%load_ext autoreload\n",
    "%autoreload 2"
   ]
  },
  {
   "cell_type": "code",
   "execution_count": 121,
   "metadata": {},
   "outputs": [],
   "source": [
    "import bisect\n",
    "import copy\n",
    "import datetime\n",
    "import enum\n",
    "import json\n",
    "import math\n",
    "import pathlib"
   ]
  },
  {
   "cell_type": "code",
   "execution_count": 165,
   "metadata": {},
   "outputs": [],
   "source": [
    "import fumbblapi\n",
    "import roman\n",
    "import srdata\n",
    "import srpages\n",
    "import srpoints\n",
    "import srschedule\n",
    "import srslot\n",
    "import srtime\n",
    "import srtournament"
   ]
  },
  {
   "cell_type": "code",
   "execution_count": 7,
   "metadata": {},
   "outputs": [],
   "source": [
    "tournamenturlfs = 'https://fumbbl.com/p/group?op=view&at=1&group={groupId}&p=tournaments&show={tournamentId}&showallrounds=1'"
   ]
  },
  {
   "cell_type": "code",
   "execution_count": 8,
   "metadata": {},
   "outputs": [],
   "source": [
    "sr_data_path = pathlib.Path('../sr-data')\n",
    "sr_pages_path = pathlib.Path('../sr-pages')"
   ]
  },
  {
   "cell_type": "code",
   "execution_count": 16,
   "metadata": {},
   "outputs": [],
   "source": [
    "TI = srdata.TournamentIdx\n",
    "srdata.load(sr_data_path)\n",
    "srtime.regen_fumbblyears()"
   ]
  },
  {
   "cell_type": "code",
   "execution_count": 17,
   "metadata": {},
   "outputs": [],
   "source": [
    "curr_weeknr = srtime.current_weeknr()\n",
    "weeknr_report_number = {w: r for r, w in enumerate(srtime.report_weeknrs(), 1)}\n",
    "fumbblyears = sorted(range(1, srtime.weeknr_fumbblyear(max(weeknr_report_number)) + 1))"
   ]
  },
  {
   "cell_type": "code",
   "execution_count": 67,
   "metadata": {},
   "outputs": [],
   "source": [
    "weeknr = 670"
   ]
  },
  {
   "cell_type": "markdown",
   "metadata": {},
   "source": [
    "## 1."
   ]
  },
  {
   "cell_type": "markdown",
   "metadata": {},
   "source": [
    "For a given Report, check which tournaments are included from the [Tournaments|SR-Tournaments] list. The Monday date of the Report must be greater than or equal to the tournament's ''Enter Date'' and less than the ''Exit Date''."
   ]
  },
  {
   "cell_type": "code",
   "execution_count": 177,
   "metadata": {},
   "outputs": [],
   "source": [
    "tournaments = srtournament.weeknr_tournaments(weeknr)"
   ]
  },
  {
   "cell_type": "markdown",
   "metadata": {},
   "source": [
    "## 2."
   ]
  },
  {
   "cell_type": "markdown",
   "metadata": {},
   "source": [
    "For every performances of those tournaments calculate the Points according to ''Table 1'' and ''Table 2''."
   ]
  },
  {
   "cell_type": "code",
   "execution_count": 178,
   "metadata": {},
   "outputs": [],
   "source": [
    "weeknr_points = {}\n",
    "for row in tournaments:\n",
    "    main_id = (row[TI.TOP_ID] if 0 < row[TI.TOP_ID] else row[TI.ID])\n",
    "    results = srschedule.get_results(row[TI.ID])\n",
    "    for teamId, progression in results.items():\n",
    "        key = (main_id, teamId)\n",
    "        pts = srpoints.calculate(row[TI.CLASS], progression, (teamId==row[TI.WINNER_ID]))\n",
    "        is_ugly = srpoints.is_ugly(progression)\n",
    "        weeknr_points.setdefault(key, []).append([row[TI.ID], progression, is_ugly, pts])"
   ]
  },
  {
   "cell_type": "markdown",
   "metadata": {},
   "source": [
    "## 3."
   ]
  },
  {
   "cell_type": "markdown",
   "metadata": {},
   "source": [
    "Collect every coaches and teams who participated on those tournaments and note them their slot groups and their initial vacant slots according to the Report date and ''Table 3''"
   ]
  },
  {
   "cell_type": "code",
   "execution_count": 192,
   "metadata": {},
   "outputs": [],
   "source": [
    "teamIds = {t[1] for t in weeknr_points}\n",
    "team_data = {teamId: fumbblapi.get__team(teamId) for teamId in teamIds}\n",
    "base_team_slots = srslot.team_slots(weeknr)\n",
    "team_slots = {teamId: copy.copy(base_team_slots) for teamId in teamIds}\n",
    "sr_team_points = {teamId: 0 for teamId in teamIds}"
   ]
  },
  {
   "cell_type": "code",
   "execution_count": 193,
   "metadata": {},
   "outputs": [],
   "source": [
    "coach_names = set()\n",
    "for teamId in teamIds:\n",
    "    coach_name = team_data[teamId].get(\"coach\", {}).get(\"name\")\n",
    "    if coach_name:\n",
    "        coach_names.add(coach_name)\n",
    "base_coach_slots = srslot.coach_slots(weeknr)\n",
    "coach_slots = {coach_name: copy.copy(base_coach_slots) for coach_name in coach_names}\n",
    "sr_coach_points = {coach_name: 0 for coach_name in coach_names}"
   ]
  },
  {
   "cell_type": "code",
   "execution_count": 197,
   "metadata": {},
   "outputs": [
    {
     "name": "stdout",
     "output_type": "stream",
     "text": [
      "{'FC': 'MA', 'MA': 'R', 'R': 'W'}\n",
      "{'FC': True, 'MA': True, 'R': True, 'W': False, 'NE': False}\n"
     ]
    }
   ],
   "source": [
    "fallback_slot_group = srslot.fallback_slot_group(weeknr)\n",
    "print(fallback_slot_group)\n",
    "points_included = srslot.points_included(weeknr)\n",
    "print(points_included)"
   ]
  },
  {
   "cell_type": "code",
   "execution_count": 195,
   "metadata": {},
   "outputs": [
    {
     "data": {
      "text/plain": [
       "{'FC': 'MA', 'MA': 'R', 'R': 'W'}"
      ]
     },
     "execution_count": 195,
     "metadata": {},
     "output_type": "execute_result"
    }
   ],
   "source": [
    "fallback_slot_group"
   ]
  },
  {
   "cell_type": "markdown",
   "metadata": {},
   "source": [
    "## 4."
   ]
  },
  {
   "cell_type": "markdown",
   "metadata": {},
   "source": [
    "Collect the performances of multiple applications (see ''Wasted Points'' section above) and share the least of the Points equally among them, fractions rounded down. Original Points should get replaced with the proportions."
   ]
  },
  {
   "cell_type": "code",
   "execution_count": 182,
   "metadata": {},
   "outputs": [],
   "source": [
    "weeknr_coaches = {}\n",
    "for main_id, teamId in weeknr_points:\n",
    "    coach = team_data[teamId].get(\"coach\", {}).get(\"name\")\n",
    "    key = (main_id, coach)\n",
    "    weeknr_coaches.setdefault(key, set()).add(teamId)"
   ]
  },
  {
   "cell_type": "code",
   "execution_count": 183,
   "metadata": {},
   "outputs": [
    {
     "name": "stdout",
     "output_type": "stream",
     "text": [
      "BBB CLXX | Uedder | 36//2 = 18\n",
      "BBB CLXX | GreenSkin Jaws | WWW | + | 100\n",
      "https://fumbbl.com/p/group?op=view&at=1&group=7922&p=tournaments&show=37396&showallrounds=1\n",
      "before:  [[37396, 'WWW', False, 100]]\n",
      "after:  [[37396, 'M', False, 18]]\n",
      "BBB CLXX | FancySetter | WL. | + | 36\n",
      "https://fumbbl.com/p/group?op=view&at=1&group=7922&p=tournaments&show=37396&showallrounds=1\n",
      "before:  [[37396, 'WL.', False, 36]]\n",
      "after:  [[37396, 'M', False, 18]]\n",
      "\n",
      "COS VI | Kalamona | 0//2 = 0\n",
      "COS VI Q:4 | Fight Chaos With Chaos | F... | - | 0\n",
      "https://fumbbl.com/p/group?op=view&at=1&group=7067&p=tournaments&show=37696&showallrounds=1\n",
      "before:  [[37696, 'F...', True, 0]]\n",
      "after:  [[37906, 'M', True, 0]]\n",
      "COS VI Q:4 | BlackDancers | F... | - | 0\n",
      "https://fumbbl.com/p/group?op=view&at=1&group=7067&p=tournaments&show=37696&showallrounds=1\n",
      "before:  [[37696, 'F...', True, 0]]\n",
      "after:  [[37906, 'M', True, 0]]\n",
      "\n",
      "UI XI | Kalos86 | 0//2 = 0\n",
      "UI XI Q:DARK/CRIMSON | Bad Boys I | F.. | - | 0\n",
      "https://fumbbl.com/p/group?op=view&at=1&group=1928&p=tournaments&show=37900&showallrounds=1\n",
      "before:  [[37900, 'F..', True, 0]]\n",
      "after:  [[38102, 'M', True, 0]]\n",
      "UI XI Q:LIGHT/AMBER | Dinocrok | F.. | - | 0\n",
      "https://fumbbl.com/p/group?op=view&at=1&group=1927&p=tournaments&show=37887&showallrounds=1\n",
      "before:  [[37887, 'F..', True, 0]]\n",
      "after:  [[38102, 'M', True, 0]]\n",
      "\n",
      "UI XI | duplesgallegos | 9//2 = 4\n",
      "UI XI Q:LIGHT/JADE | Dracarys | L.. | + | 9\n",
      "https://fumbbl.com/p/group?op=view&at=1&group=1927&p=tournaments&show=37893&showallrounds=1\n",
      "before:  [[37893, 'L..', False, 9]]\n",
      "after:  [[38102, 'M', False, 4]]\n",
      "UI XI Q:DARK/STEEL | Envido a pares | L.. | + | 9\n",
      "https://fumbbl.com/p/group?op=view&at=1&group=1928&p=tournaments&show=37902&showallrounds=1\n",
      "before:  [[37902, 'L..', False, 9]]\n",
      "after:  [[38102, 'M', False, 4]]\n",
      "\n"
     ]
    }
   ],
   "source": [
    "multiples = {}\n",
    "for (main_id, coach), teamIds in weeknr_coaches.items():\n",
    "    multiples[(main_id, coach)] = m = {}\n",
    "    main_row = srdata.data[\"tournament\"][main_id]\n",
    "    if 1 < len(teamIds):  # multiple application\n",
    "        min_pts = min(sum(a[-1] for a in weeknr_points[(main_id, teamId)]) for teamId in teamIds)\n",
    "        pts = min_pts // len(teamIds)\n",
    "        print(f'{main_row[TI.NAME]} | {coach} | {min_pts}//{len(teamIds)} = {pts}')\n",
    "        for teamId in teamIds:\n",
    "            li = weeknr_points[(main_id, teamId)]\n",
    "            m[teamId] = copy.copy(li)\n",
    "            for tournamentId, progression, is_ugly, pts_ in li:\n",
    "                row = srdata.data[\"tournament\"][tournamentId]\n",
    "                team_name = team_data[teamId].get(\"name\", \"\")\n",
    "                print(f'{row[TI.NAME]} | {team_name} | {progression} | {\"+-\"[is_ugly]} | {pts_}')\n",
    "                print(tournamenturlfs.format(groupId=row[TI.GROUP_ID], tournamentId=row[TI.ID]))\n",
    "            print('before: ', weeknr_points[(main_id, teamId)])\n",
    "            weeknr_points[(main_id, teamId)] = [[main_id, 'M', any(a[-2] for a in weeknr_points[(main_id, teamId)]), pts]]\n",
    "            print('after: ', weeknr_points[(main_id, teamId)])\n",
    "        print()"
   ]
  },
  {
   "cell_type": "code",
   "execution_count": 184,
   "metadata": {},
   "outputs": [],
   "source": [
    "team_points = {}\n",
    "for (main_id, teamId), li in weeknr_points.items():\n",
    "    is_ugly = any(a[-2] for a in li)\n",
    "    pts = sum(a[-1] for a in li)\n",
    "    team_points[(main_id, teamId)] = [is_ugly, pts]"
   ]
  },
  {
   "cell_type": "code",
   "execution_count": 201,
   "metadata": {},
   "outputs": [],
   "source": [
    "coach_points = {}\n",
    "for (main_id, coach_name), teamIds in weeknr_coaches.items():\n",
    "    is_ugly = any(team_points[(main_id, teamId)][-2] for teamId in teamIds)\n",
    "    pts = sum(team_points[(main_id, teamId)][-1] for teamId in teamIds)\n",
    "    coach_points[(main_id, coach_name)] = [is_ugly, pts]"
   ]
  },
  {
   "cell_type": "markdown",
   "metadata": {},
   "source": [
    "## 5."
   ]
  },
  {
   "cell_type": "markdown",
   "metadata": {},
   "source": [
    "Collect the performances with dropouts/forfeits/concessions and sort them by points increasing, then enter date earliest first. Regardless of tournament rank, these points take vacant __R__ slots from the coaches and teams. If there are no more __R__ slot to hold the result, that performance got ''Wasted''."
   ]
  },
  {
   "cell_type": "code",
   "execution_count": 214,
   "metadata": {},
   "outputs": [],
   "source": [
    "ugly_team_points = sorted(\n",
    "        [pts, srdata.data[\"tournament\"][main_id][TI.ENTER_WEEKNR], teamId]\n",
    "        for (main_id, teamId), (is_ugly, pts) in team_points.items() \n",
    "        if is_ugly\n",
    ")"
   ]
  },
  {
   "cell_type": "code",
   "execution_count": 215,
   "metadata": {},
   "outputs": [],
   "source": [
    "for pts, enter_weeknr, teamId in ugly_team_points:\n",
    "    slot_group = \"R\"\n",
    "    vacant_slot = team_slots[teamId][slot_group]\n",
    "    while not vacant_slot:\n",
    "        slot_group = fallback_slot_group[slot_group]\n",
    "        vacant_slot = team_slots[teamId][slot_group]\n",
    "    team_slots[teamId][slot_group] -= 1\n",
    "    if points_included[slot_group]:\n",
    "        sr_team_points[teamId] += pts"
   ]
  },
  {
   "cell_type": "code",
   "execution_count": 216,
   "metadata": {},
   "outputs": [],
   "source": [
    "ugly_coach_points = sorted(\n",
    "        [pts, srdata.data[\"tournament\"][main_id][TI.ENTER_WEEKNR], coach_name]\n",
    "        for (main_id, coach_name), (is_ugly, pts) in coach_points.items() \n",
    "        if is_ugly\n",
    ")"
   ]
  },
  {
   "cell_type": "code",
   "execution_count": 217,
   "metadata": {},
   "outputs": [],
   "source": [
    "for pts, enter_weeknr, coach_name in ugly_coach_points:\n",
    "    slot_group = \"R\"\n",
    "    vacant_slot = coach_slots[coach_name][slot_group]\n",
    "    while not vacant_slot:\n",
    "        slot_group = fallback_slot_group[slot_group]\n",
    "        vacant_slot = coach_slots[coach_name][slot_group]\n",
    "    coach_slots[coach_name][slot_group] -= 1\n",
    "    if points_included[slot_group]:\n",
    "        sr_coach_points[coach_name] += pts"
   ]
  },
  {
   "cell_type": "markdown",
   "metadata": {},
   "source": [
    "## 6."
   ]
  },
  {
   "cell_type": "markdown",
   "metadata": {},
   "source": [
    "Sort the remaining performances by points decreasing then enter date earliest first. Get the ''First Slot Group'' value of the tournament as it is listed in the [Tournaments|SR-Tournaments] page and check for vacant slot for their coach and team in the obtained Slot Group. If that group is full, repeat this process for the next slot group. The order is __FC__ --> __MA__ --> __R__ --> ''Wasted''."
   ]
  },
  {
   "cell_type": "code",
   "execution_count": 218,
   "metadata": {},
   "outputs": [],
   "source": [
    "nice_team_points = sorted(\n",
    "        [-pts, srdata.data[\"tournament\"][main_id][TI.ENTER_WEEKNR], teamId, main_id]\n",
    "        for (main_id, teamId), (is_ugly, pts) in team_points.items() \n",
    "        if not is_ugly\n",
    ")\n",
    "nice_team_points = [[-a[0]] + a[1:] for a in nice_team_points]"
   ]
  },
  {
   "cell_type": "code",
   "execution_count": 219,
   "metadata": {},
   "outputs": [],
   "source": [
    "for pts, enter_weeknr, teamId, main_id in nice_team_points:\n",
    "    slot_group = srdata.data[\"tournament\"][main_id][TI.FIRST_SLOT_GROUP]\n",
    "    vacant_slot = team_slots[teamId][slot_group]\n",
    "    while not vacant_slot:\n",
    "        slot_group = fallback_slot_group[slot_group]\n",
    "        vacant_slot = team_slots[teamId][slot_group]\n",
    "    team_slots[teamId][slot_group] -= 1\n",
    "    if points_included[slot_group]:\n",
    "        sr_team_points[teamId] += pts"
   ]
  },
  {
   "cell_type": "code",
   "execution_count": 228,
   "metadata": {},
   "outputs": [],
   "source": [
    "nice_coach_points = sorted(\n",
    "        [-pts, srdata.data[\"tournament\"][main_id][TI.ENTER_WEEKNR], coach_name, main_id]\n",
    "        for (main_id, coach_name), (is_ugly, pts) in coach_points.items() \n",
    "        if not is_ugly\n",
    ")\n",
    "nice_coach_points = [[-a[0]] + a[1:] for a in nice_coach_points]"
   ]
  },
  {
   "cell_type": "code",
   "execution_count": 229,
   "metadata": {},
   "outputs": [],
   "source": [
    "for pts, enter_weeknr, coach_name, main_id in nice_coach_points:\n",
    "    slot_group = srdata.data[\"tournament\"][main_id][TI.FIRST_SLOT_GROUP]\n",
    "    vacant_slot = coach_slots[coach_name][slot_group]\n",
    "    while not vacant_slot:\n",
    "        slot_group = fallback_slot_group[slot_group]\n",
    "        vacant_slot = coach_slots[coach_name][slot_group]\n",
    "    coach_slots[coach_name][slot_group] -= 1\n",
    "    if points_included[slot_group]:\n",
    "        sr_coach_points[coach_name] += pts"
   ]
  },
  {
   "cell_type": "markdown",
   "metadata": {},
   "source": [
    "## 7."
   ]
  },
  {
   "cell_type": "markdown",
   "metadata": {},
   "source": [
    "Sum the points of each coaches and teams which were not ''Wasted'' and sort them. These are the ''SR Points''. Points of coaches and teams are published separately (Coach Rankings and Team Rankings)."
   ]
  },
  {
   "cell_type": "code",
   "execution_count": 227,
   "metadata": {
    "scrolled": false
   },
   "outputs": [
    {
     "data": {
      "text/plain": [
       "[[4609, 764724, 'Uusiverikulho'],\n",
       " [3695, 751375, 'New Vamps on the Blood'],\n",
       " [3389, 665046, 'Red Corsair'],\n",
       " [3220, 702013, 'Contagious Plague'],\n",
       " [2530, 767998, \"K''Chain Che'Malle\"],\n",
       " [2484, 711721, 'ApartaPapa QueTeEmpapa LaPapa'],\n",
       " [2480, 391622, 'Crossdressers'],\n",
       " [1920, 736789, 'Cpomb'],\n",
       " [1760, 640883, 'Death Guard Legion'],\n",
       " [1640, 778865, 'Space Tails'],\n",
       " [1520, 720903, 'Amiga Games'],\n",
       " [1480, 252269, 'That Stinks!'],\n",
       " [1400, 652069, 'Colourful Characters'],\n",
       " [1377, 718742, 'Ura Tool Too'],\n",
       " [1316, 693707, 'Cryptic Apocalypse'],\n",
       " [1238, 493844, \"Fleetfoot's Revenge I\"],\n",
       " [1218, 780298, 'Retired Bullfighters'],\n",
       " [1200, 661973, 'Hag Graef Soulrippers'],\n",
       " [1184, 715248, 'Les Vent-Marcheurs'],\n",
       " [1170, 670300, 'Drakensberg Raiders'],\n",
       " [1140, 723426, 'mafiosa powa'],\n",
       " [1068, 348330, 'Dr Suess'],\n",
       " [1026, 653764, 'Sex Pistols'],\n",
       " [978, 770867, 'Brutal Cherrypickers'],\n",
       " [960, 691037, 'Blood Red']]"
      ]
     },
     "execution_count": 227,
     "metadata": {},
     "output_type": "execute_result"
    }
   ],
   "source": [
    "sorted(([pts, teamId, team_data[teamId].get(\"name\", \"\")] for teamId, pts in sr_team_points.items()), reverse=True)[:25]"
   ]
  },
  {
   "cell_type": "code",
   "execution_count": 230,
   "metadata": {},
   "outputs": [
    {
     "data": {
      "text/plain": [
       "[[3640, 'Stonetroll'],\n",
       " [2786, 'anisdrin'],\n",
       " [2453, 'Bazakastine'],\n",
       " [2278, 'cedric19'],\n",
       " [2268, 'cdassak'],\n",
       " [2181, 'Tricktickler'],\n",
       " [2078, 'Strider84'],\n",
       " [1906, 'kingvan'],\n",
       " [1873, 'Jokaero'],\n",
       " [1690, 'Brainsaw'],\n",
       " [1610, 'huff'],\n",
       " [1544, 'Jeguan'],\n",
       " [1503, 'geggster'],\n",
       " [1503, 'Azure'],\n",
       " [1413, 'Pirigin'],\n",
       " [1377, 'BattleLore'],\n",
       " [1356, 'Malmir'],\n",
       " [1348, 'PurpleChest'],\n",
       " [1347, 'Cavetroll'],\n",
       " [1337, 'spinball'],\n",
       " [1331, 'Cloggy'],\n",
       " [1321, 'Dhaktokh'],\n",
       " [1306, 'Tauro'],\n",
       " [1286, 'Abecidofug'],\n",
       " [1256, 'the_Sage']]"
      ]
     },
     "execution_count": 230,
     "metadata": {},
     "output_type": "execute_result"
    }
   ],
   "source": [
    "sorted(([pts, coach_name] for coach_name, pts in sr_coach_points.items()), reverse=True)[:25]"
   ]
  }
 ],
 "metadata": {
  "kernelspec": {
   "display_name": "Python 3",
   "language": "python",
   "name": "python3"
  },
  "language_info": {
   "codemirror_mode": {
    "name": "ipython",
    "version": 3
   },
   "file_extension": ".py",
   "mimetype": "text/x-python",
   "name": "python",
   "nbconvert_exporter": "python",
   "pygments_lexer": "ipython3",
   "version": "3.6.3"
  }
 },
 "nbformat": 4,
 "nbformat_minor": 2
}
