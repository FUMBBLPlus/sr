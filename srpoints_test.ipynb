{
 "cells": [
  {
   "cell_type": "code",
   "execution_count": null,
   "metadata": {},
   "outputs": [],
   "source": [
    "%load_ext autoreload\n",
    "%autoreload 2"
   ]
  },
  {
   "cell_type": "code",
   "execution_count": null,
   "metadata": {},
   "outputs": [],
   "source": [
    "import fumbblapi\n",
    "import srdata\n",
    "import srmatch\n",
    "import srschedule"
   ]
  },
  {
   "cell_type": "code",
   "execution_count": null,
   "metadata": {},
   "outputs": [],
   "source": [
    "sr_data_path = '../sr-data'"
   ]
  },
  {
   "cell_type": "code",
   "execution_count": null,
   "metadata": {},
   "outputs": [],
   "source": [
    "srdata.load(sr_data_path)"
   ]
  },
  {
   "cell_type": "code",
   "execution_count": null,
   "metadata": {},
   "outputs": [],
   "source": [
    "groupId = 2410\n",
    "tournamentId = 44956"
   ]
  },
  {
   "cell_type": "code",
   "execution_count": null,
   "metadata": {},
   "outputs": [],
   "source": [
    "tournamentId = 45054"
   ]
  },
  {
   "cell_type": "code",
   "execution_count": null,
   "metadata": {},
   "outputs": [],
   "source": [
    "schedule = srschedule.sort(srschedule.get(tournamentId))"
   ]
  },
  {
   "cell_type": "code",
   "execution_count": null,
   "metadata": {},
   "outputs": [],
   "source": [
    "srschedule.results(schedule)"
   ]
  },
  {
   "cell_type": "code",
   "execution_count": null,
   "metadata": {},
   "outputs": [],
   "source": [
    "teams"
   ]
  },
  {
   "cell_type": "code",
   "execution_count": null,
   "metadata": {},
   "outputs": [],
   "source": [
    "schedule"
   ]
  },
  {
   "cell_type": "code",
   "execution_count": null,
   "metadata": {},
   "outputs": [],
   "source": [
    "results = {teamId: [] for teamId in teams}\n",
    "for r in range(1, srschedule.rounds(schedule) + 1):\n",
    "    for li in results.values():\n",
    "        li.append('.')\n",
    "    for p in schedule:\n",
    "        if p[\"round\"] != r:\n",
    "            continue\n",
    "        matchId = p[\"result\"][\"id\"]\n",
    "        winner = int(p[\"result\"][\"winner\"])\n",
    "        if matchId:\n",
    "            old_match = fumbblapi.old_get__match(matchId)\n",
    "            conceded = srmatch.conceded(old_match)\n",
    "            draw = p[\"result\"][\"teams\"][0][\"score\"] == p[\"result\"][\"teams\"][1][\"score\"]\n",
    "        else:\n",
    "            conceded = None\n",
    "            draw = False\n",
    "        p_teams = {di[\"id\"] for di in p[\"teams\"]}\n",
    "        p_teams &= teams\n",
    "        for teamId in p_teams:\n",
    "            li = results[teamId]\n",
    "            if matchId and teamId == winner:  # win by match\n",
    "                li[-1] = 'W'\n",
    "            elif matchId and draw:  # draw by match\n",
    "                li[-1] = 'D'\n",
    "            elif matchId and teamId == conceded:  # conceded on a match\n",
    "                li[-1] = 'C'\n",
    "            elif matchId:  # loss by match\n",
    "                li[-1] = 'L'\n",
    "            elif teamId == winner and len(p_teams) == 2:  # bye against a real team\n",
    "                li[-1] = 'B'\n",
    "            elif teamId == winner:  # bye against a filler team\n",
    "                li[-1] = 'b'\n",
    "            else:  # fortfeit\n",
    "                li[-1] = 'F'\n",
    "results = {teamId: ''.join(li) for teamId, li in results.items()}"
   ]
  },
  {
   "cell_type": "code",
   "execution_count": null,
   "metadata": {},
   "outputs": [],
   "source": [
    "results"
   ]
  },
  {
   "cell_type": "code",
   "execution_count": null,
   "metadata": {},
   "outputs": [],
   "source": [
    "conceded"
   ]
  },
  {
   "cell_type": "code",
   "execution_count": null,
   "metadata": {},
   "outputs": [],
   "source": []
  }
 ],
 "metadata": {
  "kernelspec": {
   "display_name": "Python 3",
   "language": "python",
   "name": "python3"
  },
  "language_info": {
   "codemirror_mode": {
    "name": "ipython",
    "version": 3
   },
   "file_extension": ".py",
   "mimetype": "text/x-python",
   "name": "python",
   "nbconvert_exporter": "python",
   "pygments_lexer": "ipython3",
   "version": "3.6.3"
  }
 },
 "nbformat": 4,
 "nbformat_minor": 2
}
